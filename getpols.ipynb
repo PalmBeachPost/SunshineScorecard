{
 "cells": [
  {
   "cell_type": "code",
   "execution_count": 50,
   "metadata": {
    "collapsed": true
   },
   "outputs": [],
   "source": [
    "'''Makes pols.csv'''\n",
    "\n",
    "# coding: utf-8\n",
    "import requests\n",
    "from pyquery import PyQuery as pq\n",
    "from nameparser import HumanName\n",
    "from slugify import slugify #for python3 requirements module is now python-slugify, but keep from slugify import slugify\n",
    "\n",
    "import re #place before import requests\n",
    "from operator import itemgetter #place before import requests\n",
    "import csv #place before import requests\n",
    "from time import sleep"
   ]
  },
  {
   "cell_type": "code",
   "execution_count": 51,
   "metadata": {
    "collapsed": true
   },
   "outputs": [],
   "source": [
    "HOUSEURL = \"http://www.myfloridahouse.gov/Sections/Representatives/representatives.aspx\"\n",
    "SENATEURL = \"https://www.flsenate.gov/Senators\"\n",
    "HOUSEPRE = \"http://www.myfloridahouse.gov\"\n",
    "SENATEPRE = \"http://www.flsenate.gov\"\n",
    "naptime = 0.5"
   ]
  },
  {
   "cell_type": "code",
   "execution_count": 3,
   "metadata": {
    "collapsed": true
   },
   "outputs": [],
   "source": [
    "REPLIST = []"
   ]
  },
  {
   "cell_type": "code",
   "execution_count": 5,
   "metadata": {
    "collapsed": false
   },
   "outputs": [
    {
     "name": "stdout",
     "output_type": "stream",
     "text": [
      "Processing senators ...\n",
      "\tAlbritton, Ben\n",
      "\tBaxley, Dennis\n",
      "\tBean, Aaron\n",
      "\tBenacquisto, Lizbeth\n",
      "\tBerman, Lori\n",
      "\tBook, Lauren\n",
      "\tBracy, Randolph\n",
      "\tBradley, Rob\n",
      "\tBrandes, Jeff\n",
      "\tBraynon, Oscar II\n",
      "\tBroxson, Doug\n",
      "\tCruz, Janet\n",
      "\tDiaz, Manny Jr.\n",
      "\tFarmer, Gary M., Jr.\n",
      "\tFlores, Anitere\n",
      "\tGainer, George B.\n",
      "\tGalvano, Bill\n",
      "\tGibson, Audrey\n",
      "\tGruters, Joe\n",
      "\tHarrell, Gayle\n",
      "\tHooper, Ed\n",
      "\tHutson, Travis\n",
      "\tLee, Tom\n",
      "\tMayfield, Debbie\n",
      "\tMontford, Bill\n",
      "\tPassidomo, Kathleen\n",
      "\tPerry, Keith\n",
      "\tPizzo, Jason W. B.\n",
      "\tPowell, Bobby\n",
      "\tRader, Kevin J.\n",
      "\tRodriguez, Jose Javier\n",
      "\tRouson, Darryl Ervin\n",
      "\tSimmons, David\n",
      "\tSimpson, Wilton\n",
      "\tStargel, Kelli\n",
      "\tStewart, Linda\n",
      "\tTaddeo, Annette\n",
      "\tThurston, Perry E., Jr.\n",
      "\tTorres, Victor M., Jr.\n",
      "\tWright, Tom A.\n"
     ]
    }
   ],
   "source": [
    "SENATE = requests.get(SENATEURL).content\n",
    "print(f\"Processing senators at {SENATEURL}\")\n",
    "SENATORS = pq(SENATE)(\"table#Senators\")\n",
    "for senator in pq(SENATORS)(\"tr\")[1:-1]:    # Skip header row and weird sorta footer row\n",
    "    countiesraw = pq(senator)(\"tr\").attr('class')\n",
    "    counties = \"|\".join(sorted(countiesraw.split()[1:]))\n",
    "    counties = counties.replace(\"St_\", \"St. \").replace(\"_\", \" \")\n",
    "    personurl = SENATEPRE + pq(senator)(\"a\").attr('href')\n",
    "    alphaname = pq(senator)(\"a\").text().replace(\" , \", \", \").strip().replace(\"  \", \" \") # Tried to fix Braynon, Oscar II\n",
    "    alphaname = re.sub(r'\\\"\\w+\\\"', '', alphaname).replace(\" ,\", \" \")    # Kill off nicknames.\n",
    "    alphaname = alphaname.replace(\", MD, \", \", \")   # Sorry Dr. Ralph E. Massullo\n",
    "    if alphaname == \"Vacant\":\n",
    "        party = \"vacant\"\n",
    "    else:\n",
    "        if alphaname.split(\", \")[1] == \"Jr.\" or alphaname.split(\", \")[1] == \"Sr.\":\n",
    "            temp = alphaname.split(\", \")\n",
    "            alphaname = temp[0] + \", \" + temp[2] + \", \" + temp[1]\n",
    "        party = pq(senator)(\"td\")[1].text.strip()[:1]\n",
    "    alphaname = re.sub(r'\\s+', ' ', alphaname).replace(\" , \", \", \")\n",
    "    print(\"\\t\" + alphaname)\n",
    "    district = pq(senator)(\"td\")[0].text_content().strip()\n",
    "    title = \"Sen.\"\n",
    "    chamber = \"Senate\"\n",
    "    parsedname = HumanName(alphaname)\n",
    "    first = parsedname.first\n",
    "    last = parsedname.last\n",
    "    middle = parsedname.middle\n",
    "    suffix = parsedname.suffix\n",
    "    if len(first) == 2: # fix for W. Travis\n",
    "        first = first + \" \" + middle\n",
    "        middle = \"\"\n",
    "    name = first + \" \" + middle + \" \" + last + \" \" + suffix\n",
    "    name = \" \".join(name.split())       # Replace multiple spaces with one, via Jeremy Bowers and rdmurphy\n",
    "    slug = slugify(title + \" \" + first + \" \" + last + \" \" + district)\n",
    "    slug = slug.replace(\"NuÃ±ez\", \"Nunez\").replace(u\"Nuñez\", \"Nunez\")\n",
    "    slug = slug.lower()\n",
    "    sleep(naptime)\n",
    "    personhtml = requests.get(personurl).content\n",
    "    biohtml = str(pq(personhtml)('div#sidebar'))\n",
    "    m = re.search('(^.+?)(, FL )', biohtml, re.MULTILINE)\n",
    "    city = m.group(1).strip()\n",
    "    photourl = SENATEPRE + pq(biohtml)(\"img\").attr('src')\n",
    "    memberstuff = [alphaname, name, first, last, slug, title, chamber, personurl, photourl, district, party, city, counties]\n",
    "    REPLIST.append(memberstuff)\n",
    "print(f\"Done scraping senators\")"
   ]
  },
  {
   "cell_type": "code",
   "execution_count": 31,
   "metadata": {
    "collapsed": false
   },
   "outputs": [],
   "source": [
    "HOUSE = requests.get(HOUSEURL).content"
   ]
  },
  {
   "cell_type": "code",
   "execution_count": 53,
   "metadata": {
    "collapsed": false
   },
   "outputs": [
    {
     "name": "stdout",
     "output_type": "stream",
     "text": [
      "Processing representatives at http://www.myfloridahouse.gov/Sections/Representatives/representatives.aspx\n"
     ]
    }
   ],
   "source": [
    "print(f\"Processing representatives at {HOUSEURL}\")\n",
    "REPS = pq(pq(HOUSE)(\"div.team-page\")[0])\n",
    "for rep in pq(REPS)(\"div.team-box\"):\n",
    "    title = \"Rep.\"\n",
    "    chamber = \"House\"\n",
    "    alphaname = pq(rep)(\"h5\").text().strip()\n",
    "    try:\n",
    "        party = pq(rep)(\"p\")[0].text.strip().split(\"—\")[0].strip()\n",
    "    except:\n",
    "        party = \"\"\n",
    "    if \"Pending District\" in alphaname:\n",
    "        party = \"vacant\"\n",
    "    alphaname = re.sub(r'\\\"\\w+\\\"', '', alphaname).replace(\" ,\", \" \")    # Kill off nicknames.\n",
    "    alphaname = alphaname.replace(\", MD, \", \", \")   # Sorry Dr. Ralph E. Massullo\n",
    "    alphaname = re.sub(r'\\s+', ' ', alphaname).replace(\" , \", \", \")\n",
    "    print(f\"\\t{alphaname}\")\n",
    "    district = pq(pq(rep)(\"p\")[0])(\"span\").text().split(\":\")[1].strip()   # Inside the span is \"District: 8\". Get the 8.\n",
    "    personurl = HOUSEPRE + pq(pq(rep)(\"a\")[0]).attr('href')\n",
    "    photourl = HOUSEPRE + pq(pq(rep)(\"img\")).attr('data-src')\n",
    "    parsedname = HumanName(alphaname)\n",
    "    first = parsedname.first\n",
    "    last = parsedname.last\n",
    "    middle = parsedname.middle\n",
    "    suffix = parsedname.suffix\n",
    "    if len(first) == 2: # fix for W. Travis\n",
    "        first = first + \" \" + middle\n",
    "        middle = \"\"\n",
    "    name = first + \" \" + middle + \" \" + last + \" \" + suffix\n",
    "    name = \" \".join(name.split())       # Replace multiple spaces with one, via Jeremy Bowers and rdmurphy\n",
    "    slug = slugify(title + \" \" + first + \" \" + last + \" \" + district)\n",
    "    slug = slug.replace(\"NuÃ±ez\", \"Nunez\").replace(u\"Nuñez\", \"Nunez\")\n",
    "    slug = slug.lower()\n",
    "    countiesraw = pq(pq(rep)(\"p.rep-counties\")).text()\n",
    "    countiesraw = countiesraw.replace(\" and part of\", \",\")\n",
    "    countiesraw = countiesraw.replace(\" and parts of\", \",\")\n",
    "    countiesraw = countiesraw.replace(\"Part of \", \"\")\n",
    "    countiesraw = countiesraw.replace(\"Parts of \", \"\")\n",
    "    countiesraw = countiesraw.split(\",\")\n",
    "    for i, county in enumerate(countiesraw):\n",
    "        countiesraw[i] = county.strip()\n",
    "    counties = \"|\".join(sorted(countiesraw))\n",
    "    city = \"\"\n",
    "    try:\n",
    "        sleep(naptime)\n",
    "        personhtml = requests.get(personurl).content\n",
    "        memberinfo = pq(personhtml)(\"div.mi-content\")\n",
    "        if \"city\" in pq(pq(memberinfo)(\"span\")[0]).text().lower():\n",
    "            city = pq(pq(memberinfo)(\"span\")[1]).text()\n",
    "    except:\n",
    "        city = \"\"\n",
    "    memberstuff = [alphaname, name, first, last, slug, title, chamber, personurl, photourl, district, party, city, counties]\n",
    "    REPLIST.append(memberstuff)\n",
    "    "
   ]
  },
  {
   "cell_type": "raw",
   "metadata": {},
   "source": [
    "HOUSE = requests.get(HOUSEURL).content\n",
    "print(f\"Processing representatives at {HOUSEURL}\")\n",
    "REPS = pq(pq(HOUSE)(\"div.team-page\")[0])\n",
    "\n",
    "\n",
    "\n",
    "\n",
    "REPS = pq(pq(HOUSE)(\"div.rep_listing1\"))\n",
    "for rep in pq(REPS):\n",
    "    title = \"Rep.\"\n",
    "    chamber = \"House\"\n",
    "    district = pq(rep)(\"div\")[1].text.strip()\n",
    "    party = pq(rep)(\"div\")[2].text.strip()\n",
    "    \n",
    "    if not party:\n",
    "        continue\n",
    "\n",
    "    alphaname = pq(pq(rep)(\"div\")[3])(\"a\").text()\n",
    "    alphaname = re.sub(r'\\\"\\w+\\\"', '', alphaname).replace(\" ,\", \" \")    # Kill off nicknames.\n",
    "    alphaname = alphaname.replace(\", MD, \", \", \")   # Sorry Dr. Ralph E. Massullo\n",
    "    alphaname = re.sub(r'\\s+', ' ', alphaname).replace(\" , \", \", \")\n",
    "    if alphaname.split(\", \")[1] == \"Jr.\" or alphaname.split(\", \")[1] == \"Sr.\":\n",
    "        temp = alphaname.split(\", \")\n",
    "        alphaname = temp[0] + \", \" + temp[2] + \", \" + temp[1]\n",
    "    alphaname = re.sub(r'\\s+', ' ', alphaname).replace(\" , \", \", \")\n",
    "    print(\"\\t\" + alphaname)\n",
    "    personurl = pq(pq(rep)(\"div\")[3])(\"a\").attr('href')\n",
    "    m = re.search('(MemberId=)(\\d+)(&)', personurl)\n",
    "    memberno = m.group(2)\n",
    "    photourl = HOUSEPRE + \"/FileStores/Web/Imaging/Member/\" + memberno + \".jpg\"\n",
    "    personurl = HOUSEPRE + personurl\n",
    "    # name = alphaname.split(\",\")[1].strip() + \" \" + alphaname.split(\",\")[0].strip()\n",
    "    parsedname = HumanName(alphaname)\n",
    "    first = parsedname.first\n",
    "    last = parsedname.last\n",
    "    middle = parsedname.middle\n",
    "    suffix = parsedname.    suffix\n",
    "    if len(first) == 2: # fix for W. Travis\n",
    "        first = first + \" \" + middle\n",
    "        middle = \"\"\n",
    "    name = first + \" \" + middle + \" \" + last + \" \" + suffix\n",
    "    name = \" \".join(name.split())       # Replace multiple spaces with one, via Jeremy Bowers and rdmurphy\n",
    "    slug = slugify(title + \" \" + first + \" \" + last + \" \" + district)\n",
    "    slug = slug.replace(\"NuÃ±ez\", \"Nunez\").replace(u\"Nuñez\", \"Nunez\")\n",
    "    slug = slug.lower()\n",
    "    countiesraw = pq(rep)(\"div\")[4].text_content().strip()\n",
    "    # Here begins the ugly\n",
    "    replacepairs = [\n",
    "        (\" and part of \", \", \"),\n",
    "        (\"Part of \", \"\"),\n",
    "        (\"Parts of \", \"\"),\n",
    "        (\" and parts of \", \", \")\n",
    "    ]\n",
    "    for replacepair in replacepairs:\n",
    "        rfrom, rto = replacepair\n",
    "        countiesraw = countiesraw.replace(rfrom, rto)\n",
    "\n",
    "    counties = countiesraw.split(\",\")\n",
    "\n",
    "    for i, item in enumerate(counties):\n",
    "        counties[i] = item.strip()\n",
    "    counties = \"|\".join(counties)\n",
    "    personhtml = requests.get(personurl).content\n",
    "    biohtml = pq(personhtml)('div.r_MemberInfo')\n",
    "    city = \"\"\n",
    "    if pq(biohtml)(\"span\")[0].text == \"City of Residence:\":\n",
    "        city = pq(biohtml)(\"span\")[1].text\n",
    "    memberstuff = [alphaname, name, first, last, slug, title, chamber, personurl, photourl, district, party, city, counties]\n",
    "    REPLIST.append(memberstuff)"
   ]
  },
  {
   "cell_type": "code",
   "execution_count": null,
   "metadata": {
    "collapsed": true
   },
   "outputs": [],
   "source": [
    "# print REPLIST[:5]"
   ]
  },
  {
   "cell_type": "code",
   "execution_count": 55,
   "metadata": {
    "collapsed": false
   },
   "outputs": [
    {
     "name": "stdout",
     "output_type": "stream",
     "text": [
      "Writing CSV.\n"
     ]
    }
   ],
   "source": [
    "print(\"Writing CSV.\")\n",
    "SORTEDREPS = sorted(REPLIST, key=itemgetter(0))   # Sort by last name then first, using alphaname field\n",
    "with open('pols.csv', 'w', newline='') as f:\n",
    "    WRITER = csv.writer(f)\n",
    "    WRITER.writerow([\"alphaname\", \"name\", \"first\", \"last\", \"slug\", \"title\", \"chamber\", \"personurl\", \"photourl\", \"district\", \"party\", \"city\", \"counties\"])\n",
    "    for row in SORTEDREPS:\n",
    "        newrow = []\n",
    "        for item in row:\n",
    "            newrow.append(item)\n",
    "        # writer.writerows(REPLIST)\n",
    "        WRITER.writerow(newrow)"
   ]
  },
  {
   "cell_type": "code",
   "execution_count": null,
   "metadata": {
    "collapsed": true
   },
   "outputs": [],
   "source": []
  }
 ],
 "metadata": {
  "kernelspec": {
   "display_name": "Python 3",
   "language": "python",
   "name": "python3"
  },
  "language_info": {
   "codemirror_mode": {
    "name": "ipython",
    "version": 3
   },
   "file_extension": ".py",
   "mimetype": "text/x-python",
   "name": "python",
   "nbconvert_exporter": "python",
   "pygments_lexer": "ipython3",
   "version": "3.6.3"
  }
 },
 "nbformat": 4,
 "nbformat_minor": 2
}
