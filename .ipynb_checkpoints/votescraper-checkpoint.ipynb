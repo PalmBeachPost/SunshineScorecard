{
 "cells": [
  {
   "cell_type": "code",
   "execution_count": 27,
   "metadata": {},
   "outputs": [],
   "source": [
    "from pyquery import PyQuery as pq\n",
    "import requests\n",
    "import re\n",
    "import csv\n",
    "from string import capwords\n",
    "# import uucsv"
   ]
  },
  {
   "cell_type": "code",
   "execution_count": 28,
   "metadata": {},
   "outputs": [],
   "source": [
    "votelist = []    # to be billno, chamber, membername, vote, points\n",
    "floorvotevalue = 3"
   ]
  },
  {
   "cell_type": "code",
   "execution_count": 29,
   "metadata": {},
   "outputs": [],
   "source": [
    "billlist = []\n",
    "with open('billlist2.csv', newline='',encoding='utf-8-sig') as csvfile:\n",
    "     reader = csv.DictReader(csvfile)\n",
    "     for row in reader:\n",
    "        if row['position'] == \"bad\":\n",
    "            row['multiplier'] = -1\n",
    "        elif row['position'] == \"good\":\n",
    "            row['multiplier'] = 1\n",
    "        else:\n",
    "            print(\"Improper 'position' found for \" + row['billno'] + \". What did you do?\")\n",
    "        billlist.append(row)"
   ]
  },
  {
   "cell_type": "code",
   "execution_count": 30,
   "metadata": {},
   "outputs": [
    {
     "name": "stdout",
     "output_type": "stream",
     "text": [
      "OrderedDict([('billno', 'HB265'), ('description', 'Specifies that certain boards & commissions are subject to public meetings requirements; revises public meeting notice requirements; provides that member of public has right to speak at public meeting; requires members of board or commission to respond to questions made at public meetings within a specified timeframe; repeals provision relating to reasonable opportunity to be heard at public meetings; provides penalties.'), ('position', 'good'), ('url', 'https://www.myfloridahouse.gov/Sections/Bills/billsdetail.aspx?BillId=63159&SessionId=87'), ('house', ''), ('senate', ''), ('multiplier', 1)])\n"
     ]
    }
   ],
   "source": [
    "# html = requests.get(\"https://www.myfloridahouse.gov/Sections/Bills/floorvote.aspx?VoteId=17855&BillId=60058&SessionId=86&\")\n",
    "# yas = \n",
    "HEADERS = {'user-agent': 'Mozilla/5.0 (Macintosh; Intel Mac OS X 10_10; rv:33.0) Gecko/20100101 Firefox/33.0'}"
   ]
  },
  {
   "cell_type": "code",
   "execution_count": 31,
   "metadata": {},
   "outputs": [
    {
     "name": "stdout",
     "output_type": "stream",
     "text": [
      "Working on HB407 for the House\n",
      "Vote - found for FernÃ¡ndez on HB407 in House\n",
      "Vote - found for Grall on HB407 in House\n",
      "Vote - found for Toledo on HB407 in House\n",
      "Vote - found for Vacant on HB407 in House\n",
      "Vote - found for Vacant on HB407 in House\n",
      "Vote - found for Vacant on HB407 in House\n",
      "After-roll call votes need to be manually added for:\n",
      "\thttps://www.myfloridahouse.gov/Sections/Bills/floorvote.aspx?VoteId=18644&BillId=63303&SessionId=87&\n",
      "114-0-0-6-114 votes from summary found. Y-N-A-M-Total\n",
      "114-0-6-114 individual votes found Y-N-Something-Total\n",
      "Working on SB248 for the House\n",
      "Vote - found for FernÃ¡ndez on SB248 in House\n",
      "Vote - found for Vacant on SB248 in House\n",
      "Vote - found for Vacant on SB248 in House\n",
      "Vote - found for Vacant on SB248 in House\n",
      "After-roll call votes need to be manually added for:\n",
      "\thttps://www.myfloridahouse.gov/Sections/Bills/floorvote.aspx?VoteId=18616&BillId=63056&SessionId=87&\n",
      "116-0-0-4-116 votes from summary found. Y-N-A-M-Total\n",
      "116-0-4-116 individual votes found Y-N-Something-Total\n",
      "Working on SB248 for the Senate\n",
      "39-1-0-0-40 votes from summary found. Y-N-A-M-Total\n",
      "39-1-0-40 individual votes found Y-N-Something-Total\n"
     ]
    }
   ],
   "source": [
    "for row in billlist:\n",
    "    for lowchamber in (\"house\", \"senate\"):\n",
    "        if len(row[lowchamber]) > 0:   # If we have a valid URL\n",
    "            billno = row['billno'] #just going to deal with the weird encoding characters\n",
    "            chamber = capwords(lowchamber)\n",
    "            print(\"Working on \" + billno + \" for the \" + chamber)\n",
    "            multiplier = row['multiplier']\n",
    "            sourceurl = row[lowchamber]\n",
    "            r = requests.get(sourceurl, headers=HEADERS)\n",
    "            html = r.content \n",
    "            yeas = pq(html)(\"span#ctl00_MainContent_lblYeas\").text().strip()\n",
    "            nays = pq(html)(\"span#ctl00_MainContent_lblNays\").text().strip()\n",
    "            abstained = pq(html)(\"span#ctl00_MainContent_lblAbstained\").text().strip()\n",
    "            missed = pq(html)(\"span#ctl00_MainContent_lblMissed\").text().strip()\n",
    "            total = pq(html)(\"span#ctl00_MainContent_lblTotal\").text().strip()\n",
    "            ryeas = 0   # Start capturing real votes cast to compare.\n",
    "            rnays = 0\n",
    "            rsomething = 0\n",
    "            rtotal = 0\n",
    "            mainvotes = pq(html)(\"div.member-votes\")\n",
    "            for pol in pq(mainvotes)(\"li\"):\n",
    "                vote = pq(pq(pol)(\"span\")[0]).text().strip()\n",
    "                member = pq(pq(pol)(\"span\")[1]).text().strip()\n",
    "                # print(f\"{vote}: {member}\")\n",
    "                points = 0\n",
    "                if vote == \"Y\":\n",
    "                    points = floorvotevalue * multiplier\n",
    "                    ryeas += 1\n",
    "                    rtotal += 1\n",
    "                elif vote == \"N\":\n",
    "                    points = floorvotevalue * multiplier * -1\n",
    "                    rnays += 1\n",
    "                    rtotal += 1\n",
    "                else:\n",
    "                    print(f\"Vote {vote} found for {member} on {billno} in {chamber}\")\n",
    "                    # rtotal += 1   # Yes, No only counted toward total apparently\n",
    "                    rsomething += 1\n",
    "                entry = [billno, chamber, member, vote, str(points)]\n",
    "                # print(member, vote, memberid)\n",
    "                votelist.append(entry)\n",
    "            if \"Vote After Roll Call\" in str(pq(html)):\n",
    "                print(\"After-roll call votes need to be manually added for:\\n\\t\"+ sourceurl)\n",
    "            print(f\"{yeas}-{nays}-{abstained}-{missed}-{total} votes from summary found. Y-N-A-M-Total\")\n",
    "            print(f\"{ryeas}-{rnays}-{rsomething}-{rtotal} individual votes found Y-N-Something-Total\")\n",
    "    \n",
    "    "
   ]
  },
  {
   "cell_type": "code",
   "execution_count": 11,
   "metadata": {
    "collapsed": true
   },
   "outputs": [],
   "source": [
    "# OK, so there can be fewer than 120 reps -- someone died, quit? Not marked absent. GOod to know.\n",
    "# If number of voters is less than or equal to 40, it's Senate; otherwise, House"
   ]
  },
  {
   "cell_type": "code",
   "execution_count": 32,
   "metadata": {},
   "outputs": [],
   "source": [
    "with open('autovotes2.csv', 'w', newline='') as csvfile:\n",
    "    put = csv.writer(csvfile)\n",
    "    header = [\"billno\", \"chamber\", \"member\", \"vote\", \"points\"]\n",
    "    put.writerow(header)\n",
    "    for entry in votelist:\n",
    "        put.writerow(entry)"
   ]
  },
  {
   "cell_type": "code",
   "execution_count": null,
   "metadata": {
    "collapsed": true
   },
   "outputs": [],
   "source": []
  },
  {
   "cell_type": "code",
   "execution_count": null,
   "metadata": {
    "collapsed": true
   },
   "outputs": [],
   "source": []
  }
 ],
 "metadata": {
  "kernelspec": {
   "display_name": "Python 3",
   "language": "python",
   "name": "python3"
  },
  "language_info": {
   "codemirror_mode": {
    "name": "ipython",
    "version": 3
   },
   "file_extension": ".py",
   "mimetype": "text/x-python",
   "name": "python",
   "nbconvert_exporter": "python",
   "pygments_lexer": "ipython3",
   "version": "3.6.5"
  }
 },
 "nbformat": 4,
 "nbformat_minor": 2
}
