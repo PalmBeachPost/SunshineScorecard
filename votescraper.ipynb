{
 "cells": [
  {
   "cell_type": "code",
   "execution_count": 7,
   "metadata": {
    "collapsed": true,
    "deletable": true,
    "editable": true
   },
   "outputs": [],
   "source": [
    "from pyquery import PyQuery as pq\n",
    "import requests\n",
    "import re\n",
    "import csv\n",
    "from string import capwords\n",
    "# import uucsv"
   ]
  },
  {
   "cell_type": "code",
   "execution_count": 8,
   "metadata": {
    "collapsed": true,
    "deletable": true,
    "editable": true
   },
   "outputs": [],
   "source": [
    "votelist = []    # to be billno, chamber, membername, vote, points\n",
    "floorvotevalue = 3"
   ]
  },
  {
   "cell_type": "code",
   "execution_count": 9,
   "metadata": {
    "collapsed": true
   },
   "outputs": [],
   "source": [
    "billlist = []\n",
    "with open('billlist.csv', newline='') as csvfile:\n",
    "     reader = csv.DictReader(csvfile)\n",
    "     for row in reader:\n",
    "        if row['position'] == \"bad\":\n",
    "            row['multiplier'] = -1\n",
    "        elif row['position'] == \"good\":\n",
    "            row['multiplier'] = 1\n",
    "        else:\n",
    "            print(\"Improper 'position' found for \" + row['billno'] + \". What did you do?\")\n",
    "        billlist.append(row)"
   ]
  },
  {
   "cell_type": "code",
   "execution_count": 10,
   "metadata": {
    "collapsed": false,
    "deletable": true,
    "editable": true
   },
   "outputs": [
    {
     "name": "stdout",
     "output_type": "stream",
     "text": [
      "Working on HB111 for the House\n",
      "120 votes found. Y-N-A-M-Total:\n",
      "113 3 0 4 116\n",
      "Vote '-' found for Abruzzo on HB111\n",
      "Vote '-' found for Santiago on HB111\n",
      "Vote '-' found for Harrell on HB111\n",
      "HEY! PROBLEM WITH NUNEZ AGAIN\n",
      "Vote '-' found for Raulerson on HB111\n",
      "After-roll call votes need to be manually added for:\n",
      "\thttp://www.myfloridahouse.gov/Sections/Bills/floorvote.aspx?VoteId=17008&BillId=56752&SessionId=83&\n",
      "Working on HB111 for the Senate\n",
      "40 votes found. Y-N-A-M-Total:\n",
      "34 3 0 3 37\n",
      "Vote '-' found for Hukill on HB111\n",
      "Vote '-' found for Lee on HB111\n",
      "Vote '-' found for Galvano on HB111\n",
      "Working on SB118 for the House\n",
      "120 votes found. Y-N-A-M-Total:\n",
      "118 0 0 2 118\n",
      "HEY! PROBLEM WITH NUNEZ AGAIN\n",
      "Vote '-' found for Stafford on SB118\n",
      "Vote '-' found for Plasencia on SB118\n",
      "After-roll call votes need to be manually added for:\n",
      "\thttp://www.myfloridahouse.gov/Sections/Bills/floorvote.aspx?VoteId=17428&BillId=56694&SessionId=83&\n",
      "Working on SB118 for the Senate\n",
      "40 votes found. Y-N-A-M-Total:\n",
      "34 0 0 6 34\n",
      "Vote '-' found for Hukill on SB118\n",
      "Vote '-' found for Flores on SB118\n",
      "Vote '-' found for Rader on SB118\n",
      "Vote '-' found for Lee on SB118\n",
      "Vote '-' found for Torres on SB118\n",
      "Vote '-' found for Galvano on SB118\n",
      "Working on HB351 for the House\n",
      "120 votes found. Y-N-A-M-Total:\n",
      "103 11 0 6 114\n",
      "Vote '-' found for Mercado on HB351\n",
      "Vote '-' found for Roth on HB351\n",
      "HEY! PROBLEM WITH NUNEZ AGAIN\n",
      "Vote '-' found for Beshears on HB351\n",
      "Vote '-' found for Duran on HB351\n",
      "Vote '-' found for Jenne on HB351\n",
      "Vote '-' found for La Rosa on HB351\n",
      "After-roll call votes need to be manually added for:\n",
      "\thttp://www.myfloridahouse.gov/Sections/Bills/floorvote.aspx?VoteId=17251&BillId=57004&SessionId=83&\n",
      "Working on HB441 for the House\n",
      "120 votes found. Y-N-A-M-Total:\n",
      "118 0 0 2 118\n",
      "HEY! PROBLEM WITH NUNEZ AGAIN\n",
      "Vote '-' found for Ponder on HB441\n",
      "Vote '-' found for McGhee on HB441\n",
      "After-roll call votes need to be manually added for:\n",
      "\thttp://www.myfloridahouse.gov/Sections/Bills/floorvote.aspx?VoteId=17187&BillId=57076&SessionId=83&\n",
      "Working on HB441 for the Senate\n",
      "39 votes found. Y-N-A-M-Total:\n",
      "34 0 0 5 34\n",
      "Vote '-' found for Hukill on HB441\n",
      "Vote '-' found for Farmer on HB441\n",
      "Vote '-' found for Latvala on HB441\n",
      "Vote '-' found for Rader on HB441\n",
      "Vote '-' found for Garcia on HB441\n",
      "Working on HB843 for the House\n",
      "120 votes found. Y-N-A-M-Total:\n",
      "68 48 0 4 116\n",
      "Vote '-' found for Cruz on HB843\n",
      "Vote '-' found for Hager on HB843\n",
      "Vote '-' found for Moraitis on HB843\n",
      "HEY! PROBLEM WITH NUNEZ AGAIN\n",
      "Vote '-' found for Trujillo on HB843\n",
      "After-roll call votes need to be manually added for:\n",
      "\thttp://www.myfloridahouse.gov/Sections/Bills/floorvote.aspx?VoteId=17499&BillId=58235&SessionId=83&\n",
      "Working on SB1018 for the House\n",
      "120 votes found. Y-N-A-M-Total:\n",
      "117 0 0 3 117\n",
      "Vote '-' found for Diaz, M. on SB1018\n",
      "HEY! PROBLEM WITH NUNEZ AGAIN\n",
      "Vote '-' found for Spano on SB1018\n",
      "Vote '-' found for Corcoran on SB1018\n",
      "After-roll call votes need to be manually added for:\n",
      "\thttp://www.myfloridahouse.gov/Sections/Bills/floorvote.aspx?VoteId=17538&BillId=58321&SessionId=83&\n",
      "Working on SB1018 for the Senate\n",
      "39 votes found. Y-N-A-M-Total:\n",
      "38 0 0 1 38\n",
      "Vote '-' found for Hukill on SB1018\n",
      "Working on HB7093 for the House\n",
      "120 votes found. Y-N-A-M-Total:\n",
      "115 4 0 1 119\n",
      "HEY! PROBLEM WITH NUNEZ AGAIN\n",
      "Vote '-' found for Ponder on HB7093\n",
      "After-roll call votes need to be manually added for:\n",
      "\thttp://www.myfloridahouse.gov/Sections/Bills/floorvote.aspx?VoteId=17206&BillId=59568&SessionId=83&\n",
      "Working on HB7093 for the Senate\n",
      "39 votes found. Y-N-A-M-Total:\n",
      "36 0 0 3 36\n",
      "Vote '-' found for Baxley on HB7093\n",
      "Vote '-' found for Negron on HB7093\n",
      "Vote '-' found for Hukill on HB7093\n"
     ]
    }
   ],
   "source": [
    "for row in billlist:\n",
    "    for lowchamber in (\"house\", \"senate\"):\n",
    "        if len(row[lowchamber]) > 0:   # If we have a valid URL\n",
    "            billno = row['billno']\n",
    "            chamber = capwords(lowchamber)\n",
    "            print(\"Working on \" + billno + \" for the \" + chamber)\n",
    "            multiplier = row['multiplier']\n",
    "            sourceurl = row[lowchamber]\n",
    "            r = requests.get(sourceurl)\n",
    "            html = r.content\n",
    "            yeas = pq(html)(\"span#ctl00_ContentPlaceHolder1_lblYeas\").text().strip()\n",
    "            nays = pq(html)(\"span#ctl00_ContentPlaceHolder1_lblNays\").text().strip()\n",
    "            abstained = pq(html)(\"span#ctl00_ContentPlaceHolder1_lblAbstained\").text().strip()\n",
    "            missed = pq(html)(\"span#ctl00_ContentPlaceHolder1_lblMissed\").text().strip()\n",
    "            total = pq(html)(\"span#ctl00_ContentPlaceHolder1_lblTotal\").text().strip()\n",
    "            print(str(int(yeas)+int(nays)+int(abstained)+int(missed)) + \" votes found. Y-N-A-M-Total:\")    \n",
    "            print(yeas, nays, abstained, missed, total)\n",
    "            h = pq(html)(\"table#ctl00_ContentPlaceHolder1_dlVoteMember\")\n",
    "            for pol in pq(h)(\"td\"):\n",
    "                if len(pq(pol)(\"span\")) > 0:\n",
    "                    # print(pq(pol))\n",
    "                    # print(pq(pol)(\"span\")[0].text_content())\n",
    "                    vote = pq(pol)(\"span\")[0].text_content().strip()\n",
    "                    # member = str(pq(pol)(\"span\")[1].text_content().strip().encode(\"utf-8\"))\n",
    "                    member = pq(pol)(\"span\")[1].text_content().strip()\n",
    "                    if member == \"NuÃ±ez\":\n",
    "                        print(\"HEY! PROBLEM WITH NUNEZ AGAIN\")\n",
    "                        member = u\"Nuñez\"\n",
    "                        member = u\"Nunez\"\n",
    "                    memberid = pq(pq(pol)(\"span\")[1]).attr(\"id\")\n",
    "                    memberid = memberid.replace(\"ctl00_ContentPlaceHolder1_dlVoteMember_ctl\", \"\")\n",
    "                    memberid = memberid.replace(\"_lblVoterName\", \"\")\n",
    "                    points = 0\n",
    "                    if vote == \"Y\":\n",
    "                        points = floorvotevalue * multiplier\n",
    "                    elif vote == \"N\":\n",
    "                        points = floorvotevalue * multiplier * -1\n",
    "                    else:\n",
    "                        print(\"Vote \\'\" + vote + \"\\' found for \" + member + \" on \" + billno)\n",
    "                    entry = [billno, chamber, member, vote, str(points)]\n",
    "                    # print(member, vote, memberid)\n",
    "                    votelist.append(entry)\n",
    "            if \"Vote After Roll Call\" in str(pq(html)):\n",
    "                print(\"After-roll call votes need to be manually added for:\\n\\t\"+ sourceurl)\n",
    "    \n",
    "    "
   ]
  },
  {
   "cell_type": "code",
   "execution_count": 11,
   "metadata": {
    "collapsed": true,
    "deletable": true,
    "editable": true
   },
   "outputs": [],
   "source": [
    "# OK, so there can be fewer than 120 reps -- someone died, quit? Not marked absent. GOod to know.\n",
    "# If number of voters is less than or equal to 40, it's Senate; otherwise, House"
   ]
  },
  {
   "cell_type": "code",
   "execution_count": 12,
   "metadata": {
    "collapsed": false,
    "deletable": true,
    "editable": true
   },
   "outputs": [],
   "source": [
    "with open('autovotes.csv', 'w', newline='') as csvfile:\n",
    "    put = csv.writer(csvfile)\n",
    "    header = [\"billno\", \"chamber\", \"member\", \"vote\", \"points\"]\n",
    "    put.writerow(header)\n",
    "    for entry in votelist:\n",
    "        put.writerow(entry)"
   ]
  },
  {
   "cell_type": "code",
   "execution_count": null,
   "metadata": {
    "collapsed": true,
    "deletable": true,
    "editable": true
   },
   "outputs": [],
   "source": []
  },
  {
   "cell_type": "code",
   "execution_count": null,
   "metadata": {
    "collapsed": true,
    "deletable": true,
    "editable": true
   },
   "outputs": [],
   "source": []
  }
 ],
 "metadata": {
  "kernelspec": {
   "display_name": "Python 3",
   "language": "python",
   "name": "python3"
  },
  "language_info": {
   "codemirror_mode": {
    "name": "ipython",
    "version": 3
   },
   "file_extension": ".py",
   "mimetype": "text/x-python",
   "name": "python",
   "nbconvert_exporter": "python",
   "pygments_lexer": "ipython3",
   "version": "3.6.3"
  }
 },
 "nbformat": 4,
 "nbformat_minor": 2
}
